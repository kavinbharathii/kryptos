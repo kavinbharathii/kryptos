{
 "cells": [
  {
   "cell_type": "code",
   "execution_count": 2,
   "metadata": {},
   "outputs": [],
   "source": [
    "ALPHAS = 'abcdefghijklmnopqrstuvwxyz'"
   ]
  },
  {
   "cell_type": "code",
   "execution_count": 6,
   "metadata": {},
   "outputs": [],
   "source": [
    "def vigenere(plaintext, key_stream, key = \"kryptos\", encrypt = True):\n",
    "    if not key == \"\":\n",
    "        for i in ALPHAS:\n",
    "            if i not in key:\n",
    "                key += i\n",
    "    else:\n",
    "        key = ALPHAS\n",
    "\n",
    "    ciphertext = \"\"\n",
    "    plaintext = \"\".join([x for x in plaintext if x.isalpha()]).lower()\n",
    "    key = key.lower()\n",
    "\n",
    "    if len(key_stream) < len(plaintext):\n",
    "        key_stream = ((len(plaintext) // len(key_stream)) + 1) * key_stream\n",
    "    \n",
    "    ciphertext = \"\"\n",
    "\n",
    "    if encrypt:\n",
    "        for i in range(len(plaintext)):\n",
    "            if plaintext[i].isalpha():\n",
    "                ciphertext += key[(key.index(plaintext[i]) + key.index(key_stream[i])) % 26]\n",
    "            else:\n",
    "                ciphertext += plaintext[i]\n",
    "\n",
    "    else:\n",
    "        for i in range(len(plaintext)):\n",
    "            if plaintext[i].isalpha():\n",
    "                ciphertext += key[(key.index(plaintext[i]) - key.index(key_stream[i])) % 26]\n",
    "            else:\n",
    "                ciphertext += plaintext[i]\n",
    "\n",
    "    return ciphertext"
   ]
  },
  {
   "cell_type": "code",
   "execution_count": 51,
   "metadata": {},
   "outputs": [],
   "source": [
    "k1 = \"EMUFPHZLRFAXYUSDJKZLDKRNSHGNFIVJYQTQUXQBQVYUVLLTREVJYQTMKYRDMFD\"\n",
    "k2 = \"VFPJUDEEHZWETZYVGWHKKQETGFQJNCEGGWHKK?DQMCPFQZDQMMIAGPFXHQRLGTIMVMZJANQLVKQEDAGDVFRPJUNGEUNAQZGZLECGYUXUEENJTBJLBQCRTBJDFHRRYIZETKZEMVDUFKSJHKFWHKUWQLSZFTIHHDDDUVH?DWKBFUFPWNTDFIYCUQZEREEVLDKFEZMOQQJLTTUGSYQPFEUNLAVIDXFLGGTEZ?FKZBSFDQVGOGIPUFXHHDRKFFHQNTGPUAECNUVPDJMQCLQUMUNEDFQELZZVRRGKFFVOEEXBDMVPNFQXEZLGREDNQFMPNZGLFLPMRJQYALMGNUVPDXVKPDQUMEBEDMHDAFMJGZNUPLGEWJLLAETG\"\n",
    "k3 = \"ENDYAHROHNLSRHEOCPTEOIBIDYSHNAIACHTNREYULDSLLSLLNOHSNOSMRWXMNETPRNGATIHNRARPESLNNELEBLPIIACAEWMTWNDITEENRAHCTENEUDRETNHAEOETFOLSEDTIWENHAEIOYTEYQHEENCTAYCREIFTBRSPAMHHEWENATAMATEGYEERLBTEEFOASFIOTUETUAEOTOARMAEERTNRTIBSEDDNIAAHTTMSTEWPIEROAGRIEWFEBAECTDDHILCEIHSITEGOEAOSDDRYDLORITRKLMLEHAGTDHARDPNEOHMGFMFEUHEECDMRIPFEIMEHNLSSTTRTVDOHW?\"\n",
    "k4 = \"OBKRUOXOGHULBSOLIFBBWFLRVQQPRNGKSSOTWTQSJQSSEKZZWATJKLUDIAWINFBNYPVTTMZFPKWGDKZXTJCDIGKUHUAUEKCAR\"\n",
    "\n",
    "secret = \"secret message\"\n",
    "mzfpk = \"mzfpk\"\n",
    "nypvtt = \"nypvtt\"\n",
    "qqprngkss = \"qqprngkss\"\n",
    "flrv = \"flrv\""
   ]
  },
  {
   "cell_type": "code",
   "execution_count": 10,
   "metadata": {},
   "outputs": [],
   "source": [
    "def find_keystream(plaintext, ciphertext):\n",
    "    res = \"\"\n",
    "    for index, plain_letter in enumerate(plaintext):\n",
    "        for letter in ALPHAS:\n",
    "            vigenere_text_of_one_letter = vigenere(plaintext=plain_letter, key_stream=letter)\n",
    "            if vigenere_text_of_one_letter == ciphertext[index]:\n",
    "                res += letter\n",
    "\n",
    "    return res\n",
    "                # print(plain_letter, letter, vigenere_text_of_one_letter)"
   ]
  },
  {
   "cell_type": "code",
   "execution_count": 22,
   "metadata": {},
   "outputs": [
    {
     "name": "stdout",
     "output_type": "stream",
     "text": [
      "xjmkxjm\n",
      "zneamup\n",
      "rpnaqoe\n",
      "ydbkydb\n",
      "rainbow\n",
      "zwansui\n",
      "xjmkxjm\n",
      "zneamup\n",
      "rpnaqoe\n",
      "ydbkydb\n",
      "rainbow\n",
      "zwansui\n",
      "xjmkxjm\n",
      "zneamup\n",
      "rpnaqoe\n",
      "ydbkydb\n",
      "rainbow\n",
      "zwansui\n",
      "xjmkxjm\n",
      "zneamup\n"
     ]
    }
   ],
   "source": [
    "\n",
    "# fro = \"berlin\"\n",
    "# too = \"nypvtt\"\n",
    "# fro = \"clock\"\n",
    "# too = \"mzfpk\"\n",
    "# fro = \"secretmessage\"\n",
    "# too = \"qknevwskjjmsz\"\n",
    "fro = \"rainbow\"\n",
    "too = \"zwansui\"\n",
    "for _ in range(20):\n",
    "    tem = find_keystream(fro, too)\n",
    "    fro = too\n",
    "    too = tem\n",
    "    print(too)\n",
    "    "
   ]
  },
  {
   "cell_type": "code",
   "execution_count": 20,
   "metadata": {},
   "outputs": [
    {
     "name": "stdout",
     "output_type": "stream",
     "text": [
      "rainbow\n",
      "gyxnqks\n",
      "zwansui\n",
      "emjnmjx\n",
      "wgzntea\n",
      "cbbnjsj\n",
      "uplnyrz\n",
      "axknhvb\n",
      "nncnkll\n",
      "ohmnffk\n",
      "lcrnxac\n",
      "ptdndym\n",
      "iznnvwr\n",
      "rqynbmd\n",
      "gienqgn\n",
      "zdqnsby\n",
      "eopnmpe\n",
      "wkfntxq\n",
      "cuunjnp\n",
      "ujtnyhf\n"
     ]
    }
   ],
   "source": [
    "# fro = \"rainbow\"\n",
    "# for _ in range(20):\n",
    "#     print(fro)\n",
    "#     fro = vigenere(fro, \"fuck\")"
   ]
  },
  {
   "cell_type": "code",
   "execution_count": 21,
   "metadata": {},
   "outputs": [
    {
     "data": {
      "text/plain": [
       "'xjmkxjm'"
      ]
     },
     "execution_count": 21,
     "metadata": {},
     "output_type": "execute_result"
    }
   ],
   "source": [
    "find_keystream(\"rainbow\", \"zwansui\")"
   ]
  },
  {
   "cell_type": "code",
   "execution_count": 45,
   "metadata": {},
   "outputs": [
    {
     "name": "stdout",
     "output_type": "stream",
     "text": [
      "b m n\n",
      "e u y\n",
      "r y p\n",
      "l k v\n",
      "i l t\n",
      "n g t\n"
     ]
    }
   ],
   "source": [
    "find_keystream('berlin', nypvtt)"
   ]
  },
  {
   "cell_type": "code",
   "execution_count": 48,
   "metadata": {},
   "outputs": [
    {
     "name": "stdout",
     "output_type": "stream",
     "text": [
      "n d q\n",
      "o c q\n",
      "r y p\n",
      "t y r\n",
      "h g n\n",
      "e c g\n",
      "a k k\n",
      "s a s\n",
      "t z s\n"
     ]
    }
   ],
   "source": [
    "find_keystream('northeast', qqprngkss)"
   ]
  },
  {
   "cell_type": "code",
   "execution_count": 52,
   "metadata": {},
   "outputs": [
    {
     "name": "stdout",
     "output_type": "stream",
     "text": [
      "e b f\n",
      "a l l\n",
      "s z r\n",
      "t c v\n"
     ]
    }
   ],
   "source": [
    "find_keystream('east', flrv)"
   ]
  },
  {
   "cell_type": "code",
   "execution_count": 4,
   "metadata": {},
   "outputs": [
    {
     "name": "stdout",
     "output_type": "stream",
     "text": [
      "dcyygckaz\n",
      "edzzhdlba\n",
      "feaaiemcb\n",
      "gfbbjfndc\n",
      "hgcckgoed\n",
      "ihddlhpfe\n",
      "jieemiqgf\n",
      "kjffnjrhg\n",
      "lkggoksih\n",
      "mlhhpltji\n",
      "nmiiqmukj\n",
      "onjjrnvlk\n",
      "pokksowml\n",
      "qplltpxnm\n",
      "rqmmuqyon\n",
      "srnnvrzpo\n",
      "tsoowsaqp\n",
      "utppxtbrq\n",
      "vuqqyucsr\n",
      "wvrrzvdts\n",
      "xwssaweut\n",
      "yxttbxfvu\n",
      "zyuucygwv\n",
      "azvvdzhxw\n",
      "bawweaiyx\n",
      "cbxxfbjzy\n"
     ]
    }
   ],
   "source": [
    "s = \"dcyygckaz\"\n",
    "\n",
    "for i in range(26):\n",
    "    print(\"\".join(ALPHAS[(ALPHAS.index(l) + i) % 26] for l in s))"
   ]
  }
 ],
 "metadata": {
  "kernelspec": {
   "display_name": "Python 3",
   "language": "python",
   "name": "python3"
  },
  "language_info": {
   "codemirror_mode": {
    "name": "ipython",
    "version": 3
   },
   "file_extension": ".py",
   "mimetype": "text/x-python",
   "name": "python",
   "nbconvert_exporter": "python",
   "pygments_lexer": "ipython3",
   "version": "3.12.1"
  }
 },
 "nbformat": 4,
 "nbformat_minor": 2
}
